{
 "cells": [
  {
   "cell_type": "markdown",
   "metadata": {
    "slideshow": {
     "slide_type": "slide"
    }
   },
   "source": [
    "# Sentiment Analysis/Opinion Mining"
   ]
  },
  {
   "cell_type": "markdown",
   "metadata": {},
   "source": [
    "## Objectives\n",
    "\n",
    "- Understanding: \n",
    "    - Sentiment Analysis Tasks\n",
    "        - Polarity Classification\n",
    "        - Subjectivity Identification\n",
    "        - Aspect/Feature-based Sentiment Analysis\n",
    "    - Supervised Sentiment Analysis\n",
    "    - Lexicon-based Sentiment Analysis\n",
    "    - Aspect-based Sentiment Analysis\n",
    "    \n",
    "- Learning how to:\n",
    "    - Perform supervised polarity classification\n",
    "    - Use polarity/subjectivity lexicons for polarity and subjectivity detection\n",
    "    - Use negation and valence shifter in sentiment analysis\n",
    "    - Use dependency parsing for simple aspect extraction\n"
   ]
  },
  {
   "cell_type": "markdown",
   "metadata": {},
   "source": [
    "### Recommended Reading\n",
    "- Dan Jurafsky and James H. Martin. [__Speech and Language Processing__ (SLP)](https://web.stanford.edu/~jurafsky/slp3/) (3rd ed. draft)"
   ]
  },
  {
   "cell_type": "markdown",
   "metadata": {},
   "source": [
    "### Covered Material\n",
    "- SLP\n",
    "    - [Chapter 20: Lexicons for Sentiment, Affect, and Connotation](https://web.stanford.edu/~jurafsky/slp3/25.pdf) "
   ]
  },
  {
   "cell_type": "markdown",
   "metadata": {
    "slideshow": {
     "slide_type": "fragment"
    }
   },
   "source": [
    "### Requirements\n",
    "- [NLTK](http://www.nltk.org/)    \n",
    "- [spaCy](https://spacy.io/)"
   ]
  },
  {
   "cell_type": "markdown",
   "metadata": {
    "slideshow": {
     "slide_type": "slide"
    }
   },
   "source": [
    "## 1. Sentiment Analysis Tasks"
   ]
  },
  {
   "cell_type": "markdown",
   "metadata": {},
   "source": [
    "[Sentiment analysis](https://en.wikipedia.org/wiki/Sentiment_analysis) (also known as **opinion mining**) is the use of natural language processing, text analysis, computational linguistics, and biometrics to systematically identify, extract, quantify, and study _affective states_ and _subjective information_."
   ]
  },
  {
   "cell_type": "markdown",
   "metadata": {},
   "source": [
    "- __Polarity Classification__: classify an opinion exressed by a given text as positive, negative, or neutral.\n",
    "    - alternatively predict:\n",
    "        - rating score (number of stars) \n",
    "        - emotion label (anger, fear, etc.)\n",
    "    - different levels:\n",
    "        - word in context\n",
    "        - sentence\n",
    "        - document"
   ]
  },
  {
   "cell_type": "markdown",
   "metadata": {
    "slideshow": {
     "slide_type": "slide"
    }
   },
   "source": [
    "- __Subjectivity/Objectivity Identification__: classifying a given text (usually a sentence) into subjective (*opinion*) and objective (*factual*) classes.\n",
    "    - sometimes harder than polarity classification"
   ]
  },
  {
   "cell_type": "markdown",
   "metadata": {
    "slideshow": {
     "slide_type": "slide"
    }
   },
   "source": [
    "- __Feature/Aspect-based Sentiment Analysis__: sentiments expressed on different features or aspects of entities.\n",
    "    - involves several sub-problems\n",
    "        - identifying relevant entities\n",
    "        - extracting their features/aspects\n",
    "        - classifying polarity of expressed opinion for an aspect\n",
    "    - common methods are syntactic patterns and topic modeling"
   ]
  },
  {
   "cell_type": "markdown",
   "metadata": {
    "slideshow": {
     "slide_type": "slide"
    }
   },
   "source": [
    "## 2. Polarity Classification using Supervised Machine Learning"
   ]
  },
  {
   "cell_type": "markdown",
   "metadata": {
    "slideshow": {
     "slide_type": "slide"
    }
   },
   "source": [
    "- Pang, Lee, and Vaithyanathan. \"Thumbs up? Sentiment classification using machine learning techniques\". EMNLP. 2002.\n",
    "- Pang and Lee. \"[A sentimental education: Sentiment analysis using subjectivity summarization based on minimum cuts.](https://arxiv.org/pdf/cs/0409058.pdf)\" ACL. 2004.\n",
    "\n",
    "__Bottom-Line__:\n",
    "- Machine Learning-based Sentiment Classification outperforms term counting \n",
    "- Unigrams as features are good enough (the best performance)\n",
    "- __negation marking__ is useful\n",
    "- __subjectivity detection__ is effective for polarity classification (at least for Niave Bayes)\n"
   ]
  },
  {
   "cell_type": "markdown",
   "metadata": {
    "slideshow": {
     "slide_type": "slide"
    }
   },
   "source": [
    "#### Negation Marking\n",
    "\n",
    "- Append `_NEG` suffix (or similar) to words that appear in the scope between a negation and a punctuation mark.\n",
    "\n",
    "- implemented in `nltk.sentiment.util.mark_negation`\n",
    "\n",
    "- handles double negations: (double negation is considered affirmation)\n"
   ]
  },
  {
   "cell_type": "markdown",
   "metadata": {
    "slideshow": {
     "slide_type": "slide"
    }
   },
   "source": [
    "### 2.1. Polarity Classification on Movie Reviews"
   ]
  },
  {
   "cell_type": "markdown",
   "metadata": {
    "slideshow": {
     "slide_type": "fragment"
    }
   },
   "source": [
    "- Pang and Lee (2004). \n",
    "- 1000 negative & 1000 positive reviews extracted from the Internet Movie Database (IMDb)\n",
    "- tokenized & lowercased\n",
    "- Stratified 10-fold cross-validation"
   ]
  },
  {
   "cell_type": "code",
   "execution_count": null,
   "metadata": {
    "scrolled": true,
    "slideshow": {
     "slide_type": "skip"
    }
   },
   "outputs": [],
   "source": [
    "import nltk\n",
    "nltk.download('movie_reviews')"
   ]
  },
  {
   "cell_type": "code",
   "execution_count": null,
   "metadata": {
    "slideshow": {
     "slide_type": "slide"
    }
   },
   "outputs": [],
   "source": [
    "from nltk.corpus import movie_reviews\n",
    "mr = movie_reviews\n",
    "rev_neg = mr.paras(categories='neg')\n",
    "rev_pos = mr.paras(categories='pos')"
   ]
  },
  {
   "cell_type": "code",
   "execution_count": null,
   "metadata": {
    "slideshow": {
     "slide_type": "skip"
    }
   },
   "outputs": [],
   "source": [
    "# uncomment & run to see that a document is a list of lists \n",
    "print(rev_neg[0])"
   ]
  },
  {
   "cell_type": "code",
   "execution_count": null,
   "metadata": {
    "slideshow": {
     "slide_type": "slide"
    }
   },
   "outputs": [],
   "source": [
    "# Let's use simple Naive Bayes Classification\n",
    "import numpy\n",
    "from sklearn.feature_extraction.text import CountVectorizer\n",
    "from sklearn.naive_bayes import MultinomialNB\n",
    "from sklearn.model_selection import StratifiedKFold\n",
    "from sklearn.model_selection import cross_validate\n",
    "from sklearn.metrics import classification_report\n",
    "\n",
    "vectorizer = CountVectorizer()\n",
    "classifier = MultinomialNB()"
   ]
  },
  {
   "cell_type": "code",
   "execution_count": null,
   "metadata": {
    "slideshow": {
     "slide_type": "skip"
    }
   },
   "outputs": [],
   "source": [
    "def lol2str(doc):\n",
    "    # flatten & join\n",
    "    return \" \".join([w for sent in doc for w in sent])"
   ]
  },
  {
   "cell_type": "code",
   "execution_count": null,
   "metadata": {
    "slideshow": {
     "slide_type": "fragment"
    }
   },
   "outputs": [],
   "source": [
    "# Let's prepare labels & data for scikit-learn\n",
    "corpus = [lol2str(d) for d in rev_neg] + [lol2str(d) for d in rev_pos]\n",
    "# Just to keep the code clean as vectorizer should be applied on the Training set only\n",
    "vectors = vectorizer.fit_transform(corpus)\n",
    "labels = numpy.array([0] * len(rev_neg) + [1] * len(rev_pos))"
   ]
  },
  {
   "cell_type": "code",
   "execution_count": null,
   "metadata": {
    "slideshow": {
     "slide_type": "slide"
    }
   },
   "outputs": [],
   "source": [
    "# 10-fold cross-validation\n",
    "scores = cross_validate(classifier, vectors, labels, cv=StratifiedKFold(n_splits=10) , scoring=['f1_micro'])\n",
    "average = sum(scores['test_f1_micro'])/len(scores['test_f1_micro'])\n",
    "print(round(average, 3))"
   ]
  },
  {
   "cell_type": "markdown",
   "metadata": {
    "slideshow": {
     "slide_type": "slide"
    }
   },
   "source": [
    "### Exercise 1\n",
    "- Experiment with and without applying the [Negation Marking](https://www.nltk.org/_modules/nltk/sentiment/util.html#mark_negation) to Movie Reviews Dataset\n",
    "    - expects list as input\n",
    "- Train SVM model\n",
    "- Compare results to Naive Bayes performance"
   ]
  },
  {
   "cell_type": "code",
   "execution_count": null,
   "metadata": {},
   "outputs": [],
   "source": [
    "from nltk.sentiment.util import mark_negation\n",
    "print(mark_negation(\"This is not cool\".split()))"
   ]
  },
  {
   "cell_type": "code",
   "execution_count": null,
   "metadata": {},
   "outputs": [],
   "source": [
    "\n",
    "from sklearn.pipeline import make_pipeline\n",
    "from sklearn.preprocessing import StandardScaler\n",
    "from sklearn.svm import LinearSVC\n",
    "from sklearn.metrics import f1_score\n",
    "\n",
    "new_neg = []\n",
    "for rev in rev_neg:\n",
    "    new_rev = []\n",
    "    for sentence in rev:\n",
    "        new_rev.append() # Apply or not the negation\n",
    "    new_neg.append(new_rev)\n",
    "    \n",
    "new_pos = []\n",
    "for rev in rev_pos:\n",
    "    new_rev = []\n",
    "    for sentence in rev:\n",
    "        new_rev.append() # Apply or not the negation\n",
    "    new_pos.append(new_rev)   \n",
    "    \n",
    "# Prepare corpus and labels (it's copied from above)\n",
    "new_corpus = [lol2str(d) for d in new_neg] + [lol2str(d) for d in new_pos]\n",
    "vectors = vectorizer.fit_transform(new_corpus)\n",
    "\n",
    "ref = numpy.array([0] * len(rev_neg) + [1] * len(rev_pos))\n",
    "# Inizialize the StratifiedKFold\n",
    "skf = StratifiedKFold(n_splits=10, random_state=42, shuffle=True)\n",
    "scores_svm = []\n",
    "scores_nb = []\n",
    "for i, (train_index, test_index) in enumerate(skf.split(new_corpus, ref)):\n",
    "    \n",
    "    x_train, x_test = [new_corpus[indx] for indx in train_index], [new_corpus[indx] for indx in test_index]\n",
    "    y_train, y_test = [ref[indx] for indx in train_index], [ref[indx] for indx in test_index]\n",
    "    vectorizer = CountVectorizer()\n",
    "    # Train the vectorizer on train split\n",
    "    vectorizer.fit(x_train)\n",
    "    train_features = vectorizer.transform(x_train)\n",
    "    test_features = vectorizer.transform(x_test)\n",
    "    \n",
    "    svm_classifier = # Instantiate LinearSVM don't forget C parameter\n",
    "    nb_classifier = # Instantiate Multinomial Naive Bayes\n",
    "    \n",
    "    clf_svm = # Train the svm\n",
    "    hyp_svm = # make the prediction\n",
    "#     print(classification_report(y_test, hyp_svm))\n",
    "    scores_svm.append() # Append Macro f1 score\n",
    "    clf_nb = # Train MultinomialNB\n",
    "    hyp_nb = # Make the prediction\n",
    "#     print(classification_report(y_test, hyp_nb))\n",
    "    scores_nb.append() # Append Macro f1 score\n",
    "    \n",
    "print('SVM:', round(sum(scores_svm)/len(scores_svm), 3))\n",
    "print('NB:', round(sum(scores_nb)/len(scores_nb), 3))"
   ]
  },
  {
   "cell_type": "markdown",
   "metadata": {
    "slideshow": {
     "slide_type": "slide"
    }
   },
   "source": [
    "## 3. Lexicon-Based Sentiment Analysis with NLTK"
   ]
  },
  {
   "cell_type": "markdown",
   "metadata": {},
   "source": [
    "### 3.1. Sentiment Analysis with SentiWordNet"
   ]
  },
  {
   "cell_type": "markdown",
   "metadata": {
    "slideshow": {
     "slide_type": "slide"
    }
   },
   "source": [
    "#### 3.1.1. SentiWordNet"
   ]
  },
  {
   "cell_type": "markdown",
   "metadata": {
    "slideshow": {
     "slide_type": "fragment"
    }
   },
   "source": [
    "- Esuli & Sebastiani (LREC 2006) [\"SENTIWORDNET: A Publicly Available Lexical Resource for Opinion Mining\"](https://github.com/aesuli/SentiWordNet/blob/master/papers/LREC06.pdf)\n",
    "\n",
    "- synset classification into positive-negative and subjective-objective classes\n",
    "    - 3 labels: Positive, or Negative, or Objective\n",
    "    - A term can be both Positive and Negative\n",
    "- relies on training a set of classifiers for each class\n",
    "    - different training data and algorithm\n",
    "- synset score reflects the classifier agreement\n",
    "- scores for Positive, Negative, and Objective sum to 1.0"
   ]
  },
  {
   "attachments": {
    "sentiwordnet.png": {
     "image/png": "[encoded data removed]"
    }
   },
   "cell_type": "markdown",
   "metadata": {
    "slideshow": {
     "slide_type": "slide"
    }
   },
   "source": [
    "![sentiwordnet.png](attachment:sentiwordnet.png)"
   ]
  },
  {
   "cell_type": "code",
   "execution_count": null,
   "metadata": {
    "scrolled": true,
    "slideshow": {
     "slide_type": "skip"
    }
   },
   "outputs": [],
   "source": [
    "import nltk\n",
    "nltk.download('wordnet')\n",
    "nltk.download('sentiwordnet')"
   ]
  },
  {
   "cell_type": "code",
   "execution_count": null,
   "metadata": {
    "slideshow": {
     "slide_type": "slide"
    }
   },
   "outputs": [],
   "source": [
    "from nltk.corpus import sentiwordnet as swn"
   ]
  },
  {
   "cell_type": "markdown",
   "metadata": {
    "slideshow": {
     "slide_type": "fragment"
    }
   },
   "source": [
    "#### Example\n",
    "Let's get synsets and their scores for a word \"*delicous*\""
   ]
  },
  {
   "cell_type": "markdown",
   "metadata": {
    "slideshow": {
     "slide_type": "fragment"
    }
   },
   "source": [
    "- From word 2 scores"
   ]
  },
  {
   "cell_type": "code",
   "execution_count": null,
   "metadata": {
    "scrolled": true,
    "slideshow": {
     "slide_type": "fragment"
    }
   },
   "outputs": [],
   "source": [
    "senses = swn.senti_synsets('delicious')"
   ]
  },
  {
   "cell_type": "code",
   "execution_count": null,
   "metadata": {
    "scrolled": true,
    "slideshow": {
     "slide_type": "slide"
    }
   },
   "outputs": [],
   "source": [
    "for sense in senses:\n",
    "    print(sense)  # get sense representation\n",
    "    print(sense.pos_score())  # get positive score\n",
    "    print(sense.neg_score())  # get negative score\n",
    "    print(sense.obj_score())  # get objectivity score"
   ]
  },
  {
   "cell_type": "markdown",
   "metadata": {
    "slideshow": {
     "slide_type": "slide"
    }
   },
   "source": [
    "- We can use pos-tags for filtering similar to WordNet"
   ]
  },
  {
   "cell_type": "code",
   "execution_count": null,
   "metadata": {
    "slideshow": {
     "slide_type": "fragment"
    }
   },
   "outputs": [],
   "source": [
    "senses = swn.senti_synsets('delicious', pos='a')\n",
    "print(list(senses))"
   ]
  },
  {
   "cell_type": "markdown",
   "metadata": {
    "slideshow": {
     "slide_type": "slide"
    }
   },
   "source": [
    "- From synset to scores"
   ]
  },
  {
   "cell_type": "code",
   "execution_count": null,
   "metadata": {
    "slideshow": {
     "slide_type": "fragment"
    }
   },
   "outputs": [],
   "source": [
    "synset = 'delightful.s.01'\n",
    "sense = swn.senti_synset(synset)\n",
    "print(sense)  # get sense representation\n",
    "print(sense.pos_score())  # get positive score\n",
    "print(sense.neg_score())  # get negative score\n",
    "print(sense.obj_score())  # get objectivity score\n"
   ]
  },
  {
   "cell_type": "markdown",
   "metadata": {
    "slideshow": {
     "slide_type": "slide"
    }
   },
   "source": [
    "#### 3.1.2. WSD Adaptation"
   ]
  },
  {
   "cell_type": "markdown",
   "metadata": {
    "slideshow": {
     "slide_type": "slide"
    }
   },
   "source": [
    "##### Practical Issues\n",
    "- Since scores are assigned to WordNet synsets, Word Sense Disambiguation is useful\n",
    "- Baseline is the first (most common) sense\n",
    "\n",
    "In this, we use the Lesk algorithm which extract the most appropriate sense given a token and its context. We will see this and other similar algorithms in details towards the end of the course.  "
   ]
  },
  {
   "cell_type": "code",
   "execution_count": null,
   "metadata": {
    "slideshow": {
     "slide_type": "fragment"
    }
   },
   "outputs": [],
   "source": [
    "from nltk.corpus import wordnet\n",
    "\n",
    "# Lest algorithm extracts the most appropriate token given its context\n",
    "\n",
    "def lesk(context_sentence, ambiguous_word, pos=None, synsets=None):\n",
    "    \"\"\"Return a synset for an ambiguous word in a context.\n",
    "\n",
    "    :param iter context_sentence: The context sentence where the ambiguous word\n",
    "         occurs, passed as an iterable of words.\n",
    "    :param str ambiguous_word: The ambiguous word that requires WSD.\n",
    "    :param str pos: A specified Part-of-Speech (POS).\n",
    "    :param iter synsets: Possible synsets of the ambiguous word.\n",
    "    :return: ``lesk_sense`` The Synset() object with the highest signature overlaps.\n",
    "    \"\"\"\n",
    "\n",
    "    context = set(context_sentence)\n",
    "    if synsets is None:\n",
    "        synsets = wordnet.synsets(ambiguous_word)\n",
    "\n",
    "    if pos: # We filter the senses based on their part of speech tags otherwise we use the whole list\n",
    "        if pos == 'a':\n",
    "            synsets = [ss for ss in synsets if str(ss.pos()) in ['a', 's']]\n",
    "        else:\n",
    "            synsets = [ss for ss in synsets if str(ss.pos()) == pos]\n",
    "\n",
    "    if not synsets:\n",
    "        return None\n",
    "    _, sense = max(\n",
    "        (len(context.intersection(ss.definition().split())), ss) for ss in synsets\n",
    "    )\n",
    "    return sense"
   ]
  },
  {
   "cell_type": "markdown",
   "metadata": {
    "slideshow": {
     "slide_type": "slide"
    }
   },
   "source": [
    "#### 3.1.3. NLTK POS-Tagging"
   ]
  },
  {
   "cell_type": "code",
   "execution_count": null,
   "metadata": {
    "slideshow": {
     "slide_type": "fragment"
    }
   },
   "outputs": [],
   "source": [
    "from nltk import pos_tag"
   ]
  },
  {
   "cell_type": "code",
   "execution_count": null,
   "metadata": {
    "slideshow": {
     "slide_type": "fragment"
    }
   },
   "outputs": [],
   "source": [
    "# universal tags to WordNet tags for WordNet\n",
    "# nltk.download('universal_tagset')\n",
    "# nltk.download('averaged_perceptron_tagger')\n",
    "\n",
    "# ADJ is adjective\n",
    "# ADV is adverb\n",
    "pos2wn = {\"NOUN\": \"n\", \"VERB\": \"v\", \"ADJ\": \"a\", \"ADV\": \"r\"}\n"
   ]
  },
  {
   "cell_type": "code",
   "execution_count": null,
   "metadata": {
    "slideshow": {
     "slide_type": "fragment"
    }
   },
   "outputs": [],
   "source": [
    "# Let's pot-tag first sentence of Movie Reviews using Universal Tag Set\n",
    "# & convert it to WordNet Tags\n",
    "tagged = pos_tag(rev_neg[0][0], tagset='universal')\n",
    "# if it is not among these 4, we can set it to None, since it is not in WordNet\n",
    "wntags = [(w, pos2wn.get(t, None)) for w,t in tagged]\n",
    "print(wntags)"
   ]
  },
  {
   "cell_type": "markdown",
   "metadata": {
    "slideshow": {
     "slide_type": "slide"
    }
   },
   "source": [
    "#### 3.1.4. Scoring a Document with SentiWordNet\n",
    "- POS-tagging\n",
    "- Word Sense Disambiguation\n",
    "- Score per document/sentence/token"
   ]
  },
  {
   "cell_type": "code",
   "execution_count": null,
   "metadata": {
    "slideshow": {
     "slide_type": "slide"
    }
   },
   "outputs": [],
   "source": [
    "def score_sent(sent, use_pos=False):\n",
    "    pos = []\n",
    "    neg = []\n",
    "    obj = []\n",
    "    if use_pos:\n",
    "        tagged_sent = pos_tag(sent, tagset='universal')\n",
    "    else:\n",
    "        tagged_sent = [(w, None) for w in sent]\n",
    "        \n",
    "    for tok, tag in tagged_sent:\n",
    "        ss = lesk(sent, tok, pos=pos2wn.get(tag, None))\n",
    "        if ss:\n",
    "            sense = swn.senti_synset(ss.name())\n",
    "            pos.append(sense.pos_score())\n",
    "            neg.append(sense.neg_score())\n",
    "            obj.append(sense.obj_score())\n",
    "    return pos, neg, obj"
   ]
  },
  {
   "cell_type": "code",
   "execution_count": null,
   "metadata": {
    "slideshow": {
     "slide_type": "slide"
    }
   },
   "outputs": [],
   "source": [
    "def score(doc, use_pos=False):\n",
    "    pos = []\n",
    "    neg = []\n",
    "    obj = []\n",
    "    for sent in doc:\n",
    "        sent_pos, sent_neg, sent_obj = score_sent(sent, use_pos=use_pos)\n",
    "        pos.extend(sent_pos)\n",
    "        neg.extend(sent_neg)\n",
    "        obj.extend(sent_obj)\n",
    "    \n",
    "    scores = {\n",
    "        \"pos\": sum(pos),\n",
    "        \"neg\": sum(neg),\n",
    "        \"obj\": sum(obj)\n",
    "    }    \n",
    "    return scores\n",
    "    "
   ]
  },
  {
   "cell_type": "code",
   "execution_count": null,
   "metadata": {
    "slideshow": {
     "slide_type": "slide"
    }
   },
   "outputs": [],
   "source": [
    "print(score(rev_neg[0]))\n",
    "print(score(rev_neg[0], use_pos=True))"
   ]
  },
  {
   "cell_type": "markdown",
   "metadata": {
    "slideshow": {
     "slide_type": "slide"
    }
   },
   "source": [
    "### 3.2. From Scores to Labels"
   ]
  },
  {
   "cell_type": "markdown",
   "metadata": {
    "slideshow": {
     "slide_type": "slide"
    }
   },
   "source": [
    "The simplest classification function would be taking the max of negative and positive scores to assign polarity.\n",
    "Let's break ties as positives (could be random)"
   ]
  },
  {
   "cell_type": "code",
   "execution_count": null,
   "metadata": {
    "slideshow": {
     "slide_type": "fragment"
    }
   },
   "outputs": [],
   "source": [
    "def classify(doc, pos=False):\n",
    "    scores = score(doc, use_pos=pos)\n",
    "    return \"N\" if scores.get(\"neg\") > scores.get(\"pos\") else \"P\""
   ]
  },
  {
   "cell_type": "markdown",
   "metadata": {
    "slideshow": {
     "slide_type": "slide"
    }
   },
   "source": [
    "#### 3.2.1. Classifying Movie Reviews"
   ]
  },
  {
   "cell_type": "code",
   "execution_count": null,
   "metadata": {
    "slideshow": {
     "slide_type": "fragment"
    }
   },
   "outputs": [],
   "source": [
    "# Let's create labels\n",
    "neg_ref = ['N'] * len(rev_neg)\n",
    "pos_ref = ['P'] * len(rev_pos)\n",
    "ref = neg_ref + pos_ref"
   ]
  },
  {
   "cell_type": "code",
   "execution_count": null,
   "metadata": {
    "slideshow": {
     "slide_type": "fragment"
    }
   },
   "outputs": [],
   "source": [
    "# Classification without POS-tags\n",
    "neg_hyp = [classify(doc) for doc in rev_neg]\n",
    "pos_hyp = [classify(doc) for doc in rev_pos]\n",
    "hyp = neg_hyp + pos_hyp"
   ]
  },
  {
   "cell_type": "code",
   "execution_count": null,
   "metadata": {
    "scrolled": true,
    "slideshow": {
     "slide_type": "slide"
    }
   },
   "outputs": [],
   "source": [
    "from sklearn.metrics import classification_report\n",
    "print(classification_report(ref, hyp))"
   ]
  },
  {
   "cell_type": "code",
   "execution_count": null,
   "metadata": {
    "slideshow": {
     "slide_type": "slide"
    }
   },
   "outputs": [],
   "source": [
    "# Classification with POS-tags\n",
    "neg_hyp_pos = [classify(doc, pos=True) for doc in rev_neg]\n",
    "pos_hyp_pos = [classify(doc, pos=True) for doc in rev_pos]\n",
    "hyp_pos = neg_hyp_pos + pos_hyp_pos\n",
    "print(classification_report(ref, hyp_pos))"
   ]
  },
  {
   "cell_type": "markdown",
   "metadata": {
    "slideshow": {
     "slide_type": "slide"
    }
   },
   "source": [
    "### 3.2.2. The Simplest Counting Approach\n",
    "- count positive and negative terms;\n",
    "- document is __positive__, if the count of positive terms is higher than the count of negative terms\n",
    "- document is __negative__, if the count of negative terms is higher than the count of positive terms\n",
    "- document is __neutral__, if it contains an equal number of positive or negative terms"
   ]
  },
  {
   "cell_type": "markdown",
   "metadata": {
    "slideshow": {
     "slide_type": "slide"
    }
   },
   "source": [
    "#### 3.2.3. Term Counting with Valence Shifters and Intensifiers\n",
    "\n",
    "(Kennedy and Inkpen, \"Sentiment Classification of Movie and Product Reviews Using Contextual Valence Shifters\", FINEXIN, 2005)\n",
    "\n",
    "- count positive and negative terms taking into account __valence shifters__ and __intensifiers__\n",
    "- __valence shifters__ are terms that change the polarity of a term (e.g. negations: *not*, *none*)\n",
    "- __intentsifiers__ are terms that increase of decrease the weight of a positive or negative term (e.g. *very*)\n"
   ]
  },
  {
   "cell_type": "markdown",
   "metadata": {
    "slideshow": {
     "slide_type": "slide"
    }
   },
   "source": [
    "- all positive sentiment terms are given a value of 2;\n",
    "- if they are preceded by an overstatement (intensifier) in the same clause then they are given a value of 3;\n",
    "- if they are preceded by an understatement (diminisher) in the same clause then they are given a value of 1;\n",
    "- Negative sentiment terms are given a value of -2 by default and -1 and -3 if preceded by understatements and overstatements respectively."
   ]
  },
  {
   "cell_type": "markdown",
   "metadata": {
    "slideshow": {
     "slide_type": "slide"
    }
   },
   "source": [
    "#### 3.2.4. Implementation (Example)\n",
    "https://github.com/esrel/SentiLex"
   ]
  },
  {
   "cell_type": "markdown",
   "metadata": {
    "slideshow": {
     "slide_type": "fragment"
    }
   },
   "source": [
    "##### Algorithm\n",
    "\n",
    "- Assign each token to a category:\n",
    "    - punctuation (to reset intensity and valence shift)\n",
    "    - polarity word (value from `-2` to `+2`, but could be any range)\n",
    "    - intensifier word (value is `2`)\n",
    "    - shifter word (value is `-1`)\n",
    "- Iterate of a list of tagged words computing their score as\n",
    "    - `shift * intensity * polarity`\n",
    "    - reset shift and intensity (i.e. set to `1` if a word is punctuation)\n",
    "- Skip words not in lexicon or punctuation\n",
    "- Final score is sum of token-level scores\n",
    "    - negative if score < 0, \n",
    "    - positive if score > 1"
   ]
  },
  {
   "cell_type": "markdown",
   "metadata": {
    "slideshow": {
     "slide_type": "slide"
    }
   },
   "source": [
    "### 3.3. VADER Approach\n",
    "[Valence Aware Dictionary for sEntiment Reasoning](http://comp.social.gatech.edu/papers/icwsm14.vader.hutto.pdf)"
   ]
  },
  {
   "cell_type": "markdown",
   "metadata": {
    "slideshow": {
     "slide_type": "slide"
    }
   },
   "source": [
    "- Lexicon and heuristic based sentiment analysis\n",
    "    - Considers both polarity and intensity\n",
    "    - Valence ranges from -4 to +4\n",
    "    - Neutral is 0\n",
    "- Good for short texts (e.g. twits)\n",
    "    - not rich enough features for machine learning approaches\n",
    "- As accurate as a human (?)"
   ]
  },
  {
   "cell_type": "markdown",
   "metadata": {
    "slideshow": {
     "slide_type": "slide"
    }
   },
   "source": [
    "#### 3.3.1. Extended Lexicon"
   ]
  },
  {
   "cell_type": "markdown",
   "metadata": {
    "slideshow": {
     "slide_type": "fragment"
    }
   },
   "source": [
    "Polarity & Intentsity words +:\n",
    "- __Emoticons__: :D, :P, etc.\n",
    "- __Acronyms__: LOL, ROFL, etc.\n",
    "- __Other Sentiment Carrying Exressions__: meh, "
   ]
  },
  {
   "cell_type": "markdown",
   "metadata": {
    "slideshow": {
     "slide_type": "slide"
    }
   },
   "source": [
    "#### 3.3.2. VADER Heuristics\n",
    "\n",
    "1. __Intensifiers__ either increase or decrease intensity.\n",
    "    - *This is very bad.* is more intense than *This is slightly bad.*\n",
    "    \n",
    "2. __Polarity Shifters__ include conjunctions, specifically `but`, which signals shift in polarity, and the sentiment after `but` is dominant.\n",
    "    - *This is bad, but we can handle it well.*\n",
    "    - Mixed polarity, but overall sentiment is mostly due to the 2nd clause.\n",
    "    \n",
    "3. __Negations__ are considered in the window of preceding 3 words to a polarity bearing word. (Captures 90% of polarity shifts due to negation.)\n",
    "    - *This is not that bad.*\n",
    "\n",
    "4. __Punctuation__ is an *intensifier* (e.g. `!`)\n",
    "    - *This is bad!* is more intense than *This is bad.*\n",
    "    \n",
    "5. __Capitalization__, especiall ALL-CAPS, intensifies a sentiment-bearing word in the context of other non-capitalized words.\n",
    "    - *This is BAD.* is more intense than *This is bad.*"
   ]
  },
  {
   "cell_type": "markdown",
   "metadata": {
    "slideshow": {
     "slide_type": "slide"
    }
   },
   "source": [
    "#### 3.3.3. Scoring\n",
    "\n",
    "- The compound score is a sum of valence scores of each lexicon entry. \n",
    "- Valence scores are computed w.r.t. the heuristics and __normalized__ between -1 (negative) and 1 (positive).\n",
    "\n",
    "__Normalization__\n",
    "\n",
    "$$x = \\frac{x}{\\sqrt{x^2 + \\alpha}}$$\n",
    "\n",
    "where:\n",
    "- $x$ -- sum of valence scores of constituent words\n",
    "- $\\alpha$ -- normalization constant (default is 15)"
   ]
  },
  {
   "cell_type": "markdown",
   "metadata": {
    "slideshow": {
     "slide_type": "slide"
    }
   },
   "source": [
    "#### 3.3.4. VADER in NLTK"
   ]
  },
  {
   "cell_type": "code",
   "execution_count": null,
   "metadata": {},
   "outputs": [],
   "source": [
    "import nltk\n",
    "nltk.download('vader_lexicon')"
   ]
  },
  {
   "cell_type": "markdown",
   "metadata": {
    "slideshow": {
     "slide_type": "slide"
    }
   },
   "source": [
    "##### Accessing VADER Lexicon"
   ]
  },
  {
   "cell_type": "code",
   "execution_count": null,
   "metadata": {
    "scrolled": true,
    "slideshow": {
     "slide_type": "fragment"
    }
   },
   "outputs": [],
   "source": [
    "from nltk.sentiment.vader import SentimentIntensityAnalyzer, VaderConstants\n",
    "vlex = VaderConstants()\n",
    "print(vlex.BOOSTER_DICT)"
   ]
  },
  {
   "cell_type": "code",
   "execution_count": null,
   "metadata": {
    "slideshow": {
     "slide_type": "slide"
    }
   },
   "outputs": [],
   "source": [
    "print(vlex.NEGATE)"
   ]
  },
  {
   "cell_type": "markdown",
   "metadata": {
    "slideshow": {
     "slide_type": "slide"
    },
    "tags": []
   },
   "source": [
    "##### Polarity Classification with VADER"
   ]
  },
  {
   "cell_type": "code",
   "execution_count": null,
   "metadata": {
    "slideshow": {
     "slide_type": "fragment"
    }
   },
   "outputs": [],
   "source": [
    "analyzer = SentimentIntensityAnalyzer()"
   ]
  },
  {
   "cell_type": "markdown",
   "metadata": {
    "slideshow": {
     "slide_type": "slide"
    }
   },
   "source": [
    "##### Illustration of the Heuristics"
   ]
  },
  {
   "cell_type": "code",
   "execution_count": null,
   "metadata": {
    "slideshow": {
     "slide_type": "fragment"
    }
   },
   "outputs": [],
   "source": [
    "data = [\n",
    "    'This is bad .',\n",
    "    'This is bad !',\n",
    "    'This is BAD .',\n",
    "    'This is very bad .',\n",
    "    'This is slightly bad .',\n",
    "    'This is bad , but we can handle it well .',\n",
    "    'This is not that bad .',\n",
    "    # combined features\n",
    "    'This is very BAD !!!',\n",
    "    \"This is very BAD !!! :'(\",\n",
    "]"
   ]
  },
  {
   "cell_type": "code",
   "execution_count": null,
   "metadata": {
    "slideshow": {
     "slide_type": "slide"
    }
   },
   "outputs": [],
   "source": [
    "for sent in data:\n",
    "    print(analyzer.polarity_scores(sent))"
   ]
  },
  {
   "cell_type": "markdown",
   "metadata": {
    "slideshow": {
     "slide_type": "slide"
    }
   },
   "source": [
    "### Exercise 2"
   ]
  },
  {
   "cell_type": "markdown",
   "metadata": {
    "slideshow": {
     "slide_type": "fragment"
    }
   },
   "source": [
    "Using the dataset **Movie Reviews**:\n",
    "\n",
    "1. Implement classification using counts of negative and positive terms (i.e. convert scores to label at token-level and count those for a document) (*Using VADER*)\n",
    "2. Implement classification using counts of negative and positive sentences (i.e. score sentences and aggregate their labels) (*Using VADER*)\n",
    "3. Train and evaluate supervised machine learning model (SVM, MLP, etc.) by first removing objective sentences.\n",
    "4. Classify Movie Reviews using VADER.\n",
    "5. Do a proper cross-validation evaluation"
   ]
  },
  {
   "cell_type": "code",
   "execution_count": null,
   "metadata": {},
   "outputs": [],
   "source": [
    "import numpy as np\n",
    "print(\"WORD LEVEL\")\n",
    "print(\"=\"*89)\n",
    "def polarity_word_level(document, analyzer):\n",
    "    pos = 0\n",
    "    neg = 0\n",
    "    labels = ['P', 'N']\n",
    "    for sentence in document:\n",
    "        for w in sentence:\n",
    "            value = # Extract the polarities using Vader\n",
    "            # Using the compound value check if the word is positive or not\n",
    "            # Discard neutrals \n",
    "    return labels[np.argmax(np.asarray([pos, neg]))]\n",
    "# Sanity Check\n",
    "hyp_word_level =  [polarity_word_level(doc, analyzer) for doc in rev_neg] + \\\n",
    "                  [polarity_word_level(doc, analyzer) for doc in rev_pos]\n",
    "print(classification_report(ref, hyp_word_level))    \n",
    "print(\"=\"*89)"
   ]
  },
  {
   "cell_type": "code",
   "execution_count": null,
   "metadata": {},
   "outputs": [],
   "source": [
    "print(\"SENTENCE LEVEL\")\n",
    "print(\"=\"*89)\n",
    "def polarity_sentence_level(document, analyzer):\n",
    "    pos = 0\n",
    "    neg = 0\n",
    "    labels = ['P', 'N']\n",
    "    for sentence in document:\n",
    "         value = # Extract the polarities using Vader\n",
    "        # Using the compound value check if the word is positive or not\n",
    "        # Discard neutrals \n",
    "    return labels[np.argmax(np.asarray([pos, neg]))]\n",
    "\n",
    "# Sanity check\n",
    "hyp_sentence_level =  [polarity_sentence_level(doc, analyzer) for doc in rev_neg] + \\\n",
    "                  [polarity_sentence_level(doc, analyzer) for doc in rev_pos]\n",
    "print(classification_report(ref, hyp_sentence_level))    \n"
   ]
  },
  {
   "cell_type": "code",
   "execution_count": null,
   "metadata": {},
   "outputs": [],
   "source": [
    "from sklearn.feature_extraction.text import TfidfVectorizer\n",
    "from sklearn.model_selection import train_test_split\n",
    "from sklearn.neural_network import MLPClassifier\n",
    "from sklearn.metrics import f1_score\n",
    "from sklearn.model_selection import StratifiedKFold\n",
    "# Remove objective sentences\n",
    "def rm_objective_sentences(document, analyzer):\n",
    "    new_doc = []\n",
    "    for sentence in document:\n",
    "        value = # Extract the polarities using Vader\n",
    "        # Add into new_doc the sentences with a polarity\n",
    "    return new_doc\n",
    "\n",
    "# Vader classifier i.e. polarity at document level\n",
    "def polarity_doc_level(document, analyzer):\n",
    "    value = # Extract the polarities using Vader\n",
    "    # Decide if a document if pos (P) or neg (N)\n",
    "    # Deal with objectivity, you cannot discard objective documents, although there should not be\n",
    "    \n",
    "rev_neg_wo_objective = [\" \".join(rm_objective_sentences(doc, analyzer)) for doc in rev_neg]\n",
    "rev_pos_wo_objective = [\" \".join(rm_objective_sentences(doc, analyzer)) for doc in rev_pos]\n",
    "corpus_wo_objective = rev_neg_wo_objective + rev_pos_wo_objective"
   ]
  },
  {
   "cell_type": "code",
   "execution_count": null,
   "metadata": {},
   "outputs": [],
   "source": [
    "# Train and test with Stratified K Fold\n",
    "\n",
    "skf = StratifiedKFold(n_splits=10, random_state=42, shuffle=True)\n",
    "scores_clf = []\n",
    "scores_vader = []\n",
    "scores_sentence = []\n",
    "scores_word = []\n",
    "\n",
    "for i, (train_index, test_index) in enumerate(skf.split(corpus_wo_objective, ref)):\n",
    "    x_train, x_test = [corpus_wo_objective[indx] for indx in train_index], [corpus_wo_objective[indx] for indx in test_index]\n",
    "    y_train, y_test = [ref[indx] for indx in train_index], [ref[indx] for indx in test_index]\n",
    "    # Needed for word and sentence level\n",
    "    test_x_split = [[sentence.split() for sentence in doc.splitlines()] for doc in x_test]\n",
    "    \n",
    "    vectorizer = # Vectorize the documents\n",
    "    # Train the vectorizer\n",
    "    train_features = # Extract the training features with the vectorizer\n",
    "    test_features = # Extract the testing features with the vectorizer\n",
    "    \n",
    "    clf = # Select and trian a classifier of your choice (SVM, MLP, MultinomialNB, etc.)\n",
    "    hyp = clf.predict(test_features)\n",
    "    scores_clf.append(f1_score(y_test, hyp, average='macro'))\n",
    "    \n",
    "    hyp_vader = [polarity_doc_level(doc, analyzer) for doc in x_test]\n",
    "    scores_vader.append(f1_score(y_test, hyp_vader, average='macro'))\n",
    "    \n",
    "    hyp_word = [polarity_word_level(doc, analyzer) for doc in test_x_split]\n",
    "    scores_word.append(f1_score(y_test, hyp_word, average='macro'))\n",
    "    \n",
    "    hyp_sentence = [polarity_sentence_level(doc, analyzer) for doc in test_x_split]\n",
    "    scores_sentence.append(f1_score(y_test, hyp_sentence, average='macro'))\n",
    "    \n",
    "    \n",
    "print('F1 classifier:', round(sum(scores_clf)/len(scores_clf), 3))\n",
    "print('F1 VADER:',  round(sum(scores_vader)/len(scores_vader), 3))\n",
    "print('F1 Word:',  round(sum(scores_word)/len(scores_word), 3))\n",
    "print('F1 Sentence:',  round(sum(scores_sentence)/len(scores_sentence), 3))"
   ]
  },
  {
   "cell_type": "markdown",
   "metadata": {
    "slideshow": {
     "slide_type": "slide"
    }
   },
   "source": [
    "## 4. Aspect-Based Sentiment Analysis using Dependency Parsing"
   ]
  },
  {
   "cell_type": "markdown",
   "metadata": {
    "slideshow": {
     "slide_type": "slide"
    }
   },
   "source": [
    "*Not just assigning polarity to a sentence in a review, but to an aspect of the entity being reviewed.*"
   ]
  },
  {
   "cell_type": "markdown",
   "metadata": {
    "slideshow": {
     "slide_type": "slide"
    }
   },
   "source": [
    "### 4.1. Algorithm\n",
    "- Aspect Term Extraction\n",
    "- Aspect Polarity Detection (regular polarity classification)"
   ]
  },
  {
   "cell_type": "markdown",
   "metadata": {
    "slideshow": {
     "slide_type": "slide"
    }
   },
   "source": [
    "#### Aspect Term Extraction (Simple)\n",
    "- Extract all the NOUNS from a set of sentences (e.g. a collection of reviews)\n",
    "- Group aspects with respect to semantic similarity (e.g. embedding cosine similarity)\n",
    "- Alternatively done with a pre-defined set of aspects"
   ]
  },
  {
   "cell_type": "markdown",
   "metadata": {
    "slideshow": {
     "slide_type": "slide"
    }
   },
   "source": [
    "### 4.2. Hotel Review\n",
    "https://www.tripadvisor.com/Hotel_Review-g187861-d1234279-Reviews-Hotel_Villa_Madruzzo-Trento_Province_of_Trento_Trentino_Alto_Adige.html\n",
    "\n",
    "```\n",
    "The setting of this hotel is really lovely. \n",
    "Rooms are spacious, spotlessly clean, with large and comfortable beds. \n",
    "We appreciated the courtesy touches, such as the fresh fruit on the table, always replaced.\n",
    "\n",
    "However, our room, in the new building, came at 200 euros a night (admittedly it was a busy weekend), and at this price one begins of course to be more demanding and less forgiving :-) , so let me mention that I would expect a better shower, and that the parking and manoeuvrability situation is not the best (narrow passage + slight chaos when full).\n",
    "\n",
    "But I want to conclude on a positive note: their breakfast is very good, with a sense of abundance, fresh juices, many jams and teas and cereals and nuts, proper just prepared scrambled eggs, (note for Anglo-Saxon visitors: it's mostly \"European\" style, so apart from the eggs don't expect many other hot/cooked items). And service (as well as reception) is excellent, with some people having more natural human warmth than others, but always courteous and helpful.\n",
    "```"
   ]
  },
  {
   "cell_type": "code",
   "execution_count": null,
   "metadata": {
    "slideshow": {
     "slide_type": "skip"
    }
   },
   "outputs": [],
   "source": [
    "import spacy\n",
    "nlp = spacy.load(\"en_core_web_lg\")"
   ]
  },
  {
   "cell_type": "markdown",
   "metadata": {
    "slideshow": {
     "slide_type": "slide"
    }
   },
   "source": [
    "#### 4.2.1. Extracting Aspect Terms\n",
    "Let's limit ourself to sentences of the form: *While the room is excellent*"
   ]
  },
  {
   "cell_type": "code",
   "execution_count": null,
   "metadata": {
    "slideshow": {
     "slide_type": "skip"
    }
   },
   "outputs": [],
   "source": [
    "txt = \"\"\"The setting of this hotel is really lovely. \n",
    "Rooms are spacious, spotlessly clean, with large and comfortable beds. \n",
    "We appreciated the courtesy touches, such as the fresh fruit on the table, always replaced.\n",
    "\n",
    "However, our room, in the new building, came at 200 euros a night (admittedly it was a busy weekend), and at this price one begins of course to be more demanding and less forgiving :-) , so let me mention that I would expect a better shower, and that the parking and manoeuvrability situation is not the best (narrow passage + slight chaos when full).\n",
    "\n",
    "But I want to conclude on a positive note: their breakfast is very good, with a sense of abundance, fresh juices, many jams and teas and cereals and nuts, proper just prepared scrambled eggs, (note for Anglo-Saxon visitors: it's mostly \"European\" style, so apart from the eggs don't expect many other hot/cooked items). And service (as well as reception) is excellent, with some people having more natural human warmth than others, but always courteous and helpful.\"\"\""
   ]
  },
  {
   "cell_type": "code",
   "execution_count": null,
   "metadata": {
    "slideshow": {
     "slide_type": "fragment"
    }
   },
   "outputs": [],
   "source": [
    "doc = nlp(txt)"
   ]
  },
  {
   "cell_type": "code",
   "execution_count": null,
   "metadata": {
    "slideshow": {
     "slide_type": "fragment"
    }
   },
   "outputs": [],
   "source": [
    "for sent in doc.sents:\n",
    "    for tok in sent:\n",
    "        if tok.dep_ == 'nsubj' and tok.pos_ == 'NOUN':\n",
    "            print(tok.text)\n",
    "            "
   ]
  },
  {
   "cell_type": "markdown",
   "metadata": {
    "slideshow": {
     "slide_type": "slide"
    }
   },
   "source": [
    "#### 4.2.2. Aspect Extraction\n",
    "- Let's use adjectives as polarity words\n",
    "- Let's use adverbs as intensifiers\n",
    "- Ignoring negation (though we shouldn't)"
   ]
  },
  {
   "cell_type": "code",
   "execution_count": null,
   "metadata": {
    "slideshow": {
     "slide_type": "slide"
    }
   },
   "outputs": [],
   "source": [
    "def extract(doc):\n",
    "    aspects = []\n",
    "    for sent in doc.sents:\n",
    "        target = None\n",
    "        opinion = None\n",
    "        for tok in sent:\n",
    "            if tok.dep_ == 'nsubj' and tok.pos_ == 'NOUN':\n",
    "                target = tok.text # Our targets are subjects of a sentences that are nouns\n",
    "            if tok.pos_ == 'ADJ': # Here we exact adjectives and we link them with adverbs\n",
    "                descr = ''\n",
    "                for child in tok.children:\n",
    "                    if child.pos_ != 'ADV':\n",
    "                        continue\n",
    "                    descr += child.text + ' '\n",
    "                opinion = descr + tok.text\n",
    "        if target:\n",
    "            aspects.append((target, opinion))\n",
    "    return aspects\n",
    "            "
   ]
  },
  {
   "cell_type": "code",
   "execution_count": null,
   "metadata": {
    "slideshow": {
     "slide_type": "slide"
    }
   },
   "outputs": [],
   "source": [
    "aspects = extract(doc)"
   ]
  },
  {
   "cell_type": "markdown",
   "metadata": {
    "slideshow": {
     "slide_type": "slide"
    }
   },
   "source": [
    "####  4.2.3. Aspect Polarity Detection"
   ]
  },
  {
   "cell_type": "code",
   "execution_count": null,
   "metadata": {
    "slideshow": {
     "slide_type": "fragment"
    }
   },
   "outputs": [],
   "source": [
    "for target, opinion in aspects:\n",
    "    print(target, analyzer.polarity_scores(opinion))"
   ]
  },
  {
   "cell_type": "markdown",
   "metadata": {},
   "source": [
    "# Optional Exam Exercise"
   ]
  },
  {
   "cell_type": "markdown",
   "metadata": {},
   "source": [
    "### Aspect Based Sentiment Analysis (3 points) \n",
    "Implement a model based on  Pre-trained Language model (such as BERT or RoBERTa) for the Aspect Based Sentiment Analysis task regarding the extraction of the aspect terms only. \n",
    "    \n",
    "**Dataset**: The dataset that you have to use is the Laptop partition of SemEval2014 task 4, you can download it from [here](https://github.com/lixin4ever/E2E-TBSA/tree/master/data).\n",
    "\n",
    "**Evaluation**:  For the evaluation you can refer to this [script](https://github.com/lixin4ever/E2E-TBSA/blob/master/evals.py) or the official script provided by [SemEval](https://alt.qcri.org/semeval2014/task4/index.php?id=data-and-tools) (Baseline, Evaluation and Evaluation link). Report F1, Precision and Recall.\n",
    "\n",
    "**References**:\n",
    "\n",
    "- Hu, M., Peng, Y., Huang, Z., Li, D., & Lv, Y. (2019, July). Open-Domain Targeted Sentiment Analysis via Span-Based Extraction and Classification. In Proceedings of the 57th Annual Meeting of the Association for Computational Linguistics (pp. 537-546).\n",
    "\n",
    "**Hint** \n",
    "To do this exercise you can adapt the model and the code that you develop for intent classification and slot filling tasks.\n",
    "\n",
    "\n",
    "\n"
   ]
  },
  {
   "cell_type": "code",
   "execution_count": null,
   "metadata": {},
   "outputs": [],
   "source": []
  }
 ],
 "metadata": {
  "kernelspec": {
   "display_name": "Python 3 (ipykernel)",
   "language": "python",
   "name": "python3"
  },
  "language_info": {
   "codemirror_mode": {
    "name": "ipython",
    "version": 3
   },
   "file_extension": ".py",
   "mimetype": "text/x-python",
   "name": "python",
   "nbconvert_exporter": "python",
   "pygments_lexer": "ipython3",
   "version": "3.8.16"
  }
 },
 "nbformat": 4,
 "nbformat_minor": 4
}
