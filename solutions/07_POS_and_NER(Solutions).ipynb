{
 "cells": [
  {
   "cell_type": "markdown",
   "metadata": {
    "slideshow": {
     "slide_type": "slide"
    }
   },
   "source": [
    "##### Exercise 1\n",
    "\n",
    "- Extend rule-set of RegexpTagger to handle close-class words (similar to punctuation & DET):\n",
    "\n",
    "    - prepositions (ADP)\n",
    "        - in, among, of, above, etc (add as many you want)\n",
    "    - particles (PRT)\n",
    "        - to, well, up, now, not (add as many you want)\n",
    "    - pronouns (PRON)\n",
    "        - I, you, he, she, it, they, we (add as many you want)\n",
    "    - conjunctions (CONJ)\n",
    "        - and, or, but, while, when, since (add as many you want)\n",
    "\n",
    "- Evaluate "
   ]
  },
  {
   "cell_type": "code",
   "execution_count": null,
   "metadata": {
    "slideshow": {
     "slide_type": "skip"
    }
   },
   "outputs": [],
   "source": [
    "aug_rules = [\n",
    "    (r'^-?[0-9]+(.[0-9]+)?$', 'NUM'),   # cardinal numbers\n",
    "    (r'(The|the|A|a|An|an)$', 'DET'),   # articles\n",
    "    (r'.*able$', 'ADJ'),                # adjectives\n",
    "    (r'.*ness$', 'NOUN'),               # nouns formed from adjectives\n",
    "    (r'.*ly$', 'ADV'),                  # adverbs\n",
    "    (r'.*s$', 'NOUN'),                  # plural nouns\n",
    "    (r'.*ing$', 'VERB'),                # gerunds\n",
    "    (r'.*ed$', 'VERB'),                 # past tense verbs\n",
    "    (r'.*ed$', 'VERB'),                 # past tense verbs\n",
    "    (r'[\\.,!\\?:;\\'\"]', '.'),            # punctuation (extension) \n",
    "    (r'$(in|among|of|above)', 'ADP'),                      # Add prepositions\n",
    "    (r'$(to|well|up|now|not)', 'PRT'),                      # Add particles\n",
    "    (r'$(I|you|he|she|it|they|we)', 'PRON'),                     # Add pronouns\n",
    "    (r'$(and|or|but|while|when|since)', 'CONJ'),                     # Add conjunctions\n",
    "    (r'.*', 'NOUN')                     # nouns (default)\n",
    "\n",
    "]\n",
    "aug_re_tagger = RegexpTagger(aug_rules)\n",
    "\n",
    "# tagging sentences in test set\n",
    "for s in treebank.sents()[:train_indx]:\n",
    "    print(\"INPUT: {}\".format(s))\n",
    "    print(\"TAG  : {}\".format(aug_re_tagger.tag(s)))\n",
    "    break\n",
    "\n",
    "accuracy = aug_re_tagger.accuracy(tst_data)\n",
    "# Or = aug_re_tagger.evaluate(tst_data)\n",
    "print(\"Accuracy: {:6.4f}\".format(accuracy))"
   ]
  },
  {
   "cell_type": "markdown",
   "metadata": {},
   "source": [
    "### Exercise 2 \n",
    "Evaluate spaCy NER model on the conll2002 corpus and compare the results with NLTK trained model.\n",
    "\n",
    "To do this you have to:\n",
    "\n",
    "- Load the spaCy model for the Spanish language (`es_core_news_sm`) or you can try with larger models\n",
    "- Retrieve spaCy prediction with IOB schema\n",
    "- Evaluate the model with the conll script"
   ]
  },
  {
   "cell_type": "code",
   "execution_count": null,
   "metadata": {},
   "outputs": [],
   "source": [
    "from spacy.tokenizer import Tokenizer\n",
    "\n",
    "def iobify(w):\n",
    "    return w.ent_iob_ + \"-\" + w.ent_type_ if w.ent_iob_ != \"O\" else w.ent_iob_\n",
    "\n",
    "nlp = spacy.load(\"es_core_news_sm\")\n",
    "# We overwrite the spacy tokenizer with a custom one, that split by whitespace only. However, it is a suboptimal solution.\n",
    "nlp.tokenizer = Tokenizer(nlp.vocab)\n",
    "\n",
    "# getting references (try to replace testa with testb)\n",
    "refs = [[(text, iob) for text, pos, iob in sent] for sent in conll2002.iob_sents('esp.testa')]\n",
    "# Use spaCy model for predicting the Named Entities\n",
    "hyps = [[(w.text, iobify(w)) for w in nlp(\" \".join(s))] for s in conll2002.sents('esp.testa')]\n",
    "\n",
    "results = evaluate(refs, hyps)\n",
    "\n",
    "# The total F1 is a micro-F1\n",
    "pd_tbl = pd.DataFrame().from_dict(results, orient='index')\n",
    "pd_tbl.round(decimals=3)"
   ]
  }
 ],
 "metadata": {
  "kernelspec": {
   "display_name": "Python 3",
   "language": "python",
   "name": "python3"
  },
  "language_info": {
   "codemirror_mode": {
    "name": "ipython",
    "version": 3
   },
   "file_extension": ".py",
   "mimetype": "text/x-python",
   "name": "python",
   "nbconvert_exporter": "python",
   "pygments_lexer": "ipython3",
   "version": "3.10.13"
  }
 },
 "nbformat": 4,
 "nbformat_minor": 4
}
