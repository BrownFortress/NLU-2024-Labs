{
 "cells": [
  {
   "cell_type": "markdown",
   "id": "c76bbdbe",
   "metadata": {},
   "source": [
    "**Exercise 1**\n",
    "* Create a dictionary that maps the words and labels in the training set to unique  integers $\\geq$ 0, called indexes.\n",
    "    That is:\n",
    "    - One dictionary for mapping words to ids (w2id)\n",
    "    - One dictionary for mapping slot labels to ids (slot2id)\n",
    "    - One dictionary for mapping intent labels to ids (intent2id)\n",
    "\n",
    "* With w2id map the sentence in `sent` into the computed indexes.\n",
    "\n",
    "***Example:***\n",
    "\n",
    "```python\n",
    "dictionary = {\"from\": 2, \"Boston\":88, \"to\":105, \"Tokyo\":42}\n",
    "sent = \"from Boston to Tokyo\" \n",
    "# Output:\n",
    "[2,88,105,42]\n",
    "```\n",
    "\n",
    "We will see later how to convert these indexes into vectors (aka embeddings).\n",
    "\n",
    "*Add special tokens \"pad\" and \"unk\"*\n"
   ]
  },
  {
   "cell_type": "code",
   "execution_count": 8,
   "id": "ea03b2aa",
   "metadata": {},
   "outputs": [
    {
     "name": "stdout",
     "output_type": "stream",
     "text": [
      "# Vocab: 861\n",
      "# Slots: 129\n",
      "# Intent: 26\n"
     ]
    }
   ],
   "source": [
    "from collections import Counter\n",
    "\n",
    "w2id = {'pad':PAD_TOKEN, 'unk': 1}\n",
    "slot2id = {'pad':PAD_TOKEN}\n",
    "intent2id = {}\n",
    "# Map the words only from the train set\n",
    "# Map slot and intent labels of train, dev and test set. 'unk' is not needed.\n",
    "for example in train_raw:\n",
    "    for w in example['utterance'].split():\n",
    "        if w not in w2id:\n",
    "            w2id[w] = len(w2id)   \n",
    "    for slot in example['slots'].split():\n",
    "        if slot not in slot2id:\n",
    "            slot2id[slot] = len(slot2id)\n",
    "    if example['intent'] not in intent2id:\n",
    "        intent2id[example['intent']] = len(intent2id)\n",
    "        \n",
    "for example in dev_raw:\n",
    "    for slot in example['slots'].split():\n",
    "        if slot not in slot2id:\n",
    "            slot2id[slot] = len(slot2id)\n",
    "    if example['intent'] not in intent2id:\n",
    "        intent2id[example['intent']] = len(intent2id)\n",
    "        \n",
    "for example in test_raw:\n",
    "    for slot in example['slots'].split():\n",
    "        if slot not in slot2id:\n",
    "            slot2id[slot] = len(slot2id)\n",
    "    if example['intent'] not in intent2id:\n",
    "        intent2id[example['intent']] = len(intent2id)\n",
    "\n",
    "sent = 'I wanna a flight from Toronto to Kuala Lumpur'\n",
    "mapping = [w2id[w] if w in w2id else w2id['unk'] for w in sent.split()]\n",
    "\n",
    "print('# Vocab:', len(w2id)-2) # we remove pad and unk from the count\n",
    "print('# Slots:', len(slot2id)-1)\n",
    "print('# Intent:', len(intent2id))"
   ]
  },
  {
   "cell_type": "markdown",
   "id": "874eb4c4",
   "metadata": {},
   "source": [
    "**Exercise 2**  <br> \n",
    "Write a function that adds padding on the right. (No need to convert the sentences to numbers)"
   ]
  },
  {
   "cell_type": "code",
   "execution_count": null,
   "id": "71bb2fe9",
   "metadata": {},
   "outputs": [
    {
     "name": "stdout",
     "output_type": "stream",
     "text": [
      "[['I', 'saw', 'a', 'man', 'with', 'a', 'telescope', 'PAD', 'PAD', 'PAD'],\n",
      " ['book', 'me', 'a', 'flight', 'PAD', 'PAD', 'PAD', 'PAD', 'PAD', 'PAD'],\n",
      " ['I', 'want', 'to', 'see', 'the', 'flights', 'from', 'Milan', 'to', 'Ibiza']]\n"
     ]
    }
   ],
   "source": [
    "# split them by white space\n",
    "from pprint import pprint\n",
    "\n",
    "sequences = ['I saw a man with a telescope', \n",
    "             'book me a flight', \n",
    "             'I want to see the flights from Milan to Ibiza']\n",
    "splitted = [seq.split() for seq in sequences]\n",
    "max_len = max([len(seq) for seq in splitted])\n",
    "padded_seq = []\n",
    "for seq in splitted:\n",
    "    diff = max_len - len(seq)\n",
    "    if diff != 0:\n",
    "        # Depending on the side of the addition we can get left or right padding\n",
    "        padded_seq.append(seq + ['PAD'] * diff)\n",
    "    else:\n",
    "        padded_seq.append(seq)\n",
    "pprint(padded_seq)"
   ]
  }
 ],
 "metadata": {
  "kernelspec": {
   "display_name": "Python 3 (ipykernel)",
   "language": "python",
   "name": "python3"
  },
  "language_info": {
   "codemirror_mode": {
    "name": "ipython",
    "version": 3
   },
   "file_extension": ".py",
   "mimetype": "text/x-python",
   "name": "python",
   "nbconvert_exporter": "python",
   "pygments_lexer": "ipython3",
   "version": "3.8.16"
  }
 },
 "nbformat": 4,
 "nbformat_minor": 5
}
