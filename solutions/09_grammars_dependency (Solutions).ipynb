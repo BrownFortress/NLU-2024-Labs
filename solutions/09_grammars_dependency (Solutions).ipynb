{
 "cells": [
  {
   "cell_type": "markdown",
   "metadata": {
    "slideshow": {
     "slide_type": "slide"
    }
   },
   "source": [
    "### Exercise 1\n",
    "\n",
    "- Define grammar that covers the following sentences.\n",
    "\n",
    "    - show flights from new york to los angeles\n",
    "    - list flights from new york to los angeles\n",
    "    - show flights from new york\n",
    "    - list flights to los angeles\n",
    "    - list flights\n",
    "    \n",
    "- Use one of the parsers to parse the sentences (i.e. test your grammar)\n"
   ]
  },
  {
   "cell_type": "code",
   "execution_count": null,
   "metadata": {
    "slideshow": {
     "slide_type": "skip"
    }
   },
   "outputs": [],
   "source": [
    "# As reference  \n",
    "# rules = \"\"\"\n",
    "#     'saw' -> 'i' | 'man' | 'with'\n",
    "#     'man' ->  'telescope' | 'the' | 'with'\n",
    "#     'telescope' -> 'the' | 'with' | 'a'\n",
    "# \"\"\"\n",
    "\n",
    "sentences = ['show flights from new york to los angeles', \n",
    "             'show flights from los angeles to new york'\n",
    "             'list flights from new york to los angeles',\n",
    "            'show flights from new york', \n",
    "             'list flights to los angeles', \n",
    "             'list flights']\n",
    "rules = \"\"\"\n",
    "    'show' -> 'flights' \n",
    "    'list' -> 'flights'\n",
    "    'flights'  -> 'york' | 'angeles'\n",
    "    'york' -> 'new' | 'from' | 'to'\n",
    "    'angeles' -> 'los' | 'from' | 'to'\n",
    "\"\"\"\n",
    "\n",
    "toy_grammar = nltk.DependencyGrammar.fromstring(rules)\n",
    "\n",
    "np_parser = nltk.ProjectiveDependencyParser(toy_grammar)\n",
    "for sent in sentences:\n",
    "    for graph in np_parser.parse(sent.split()):\n",
    "        print(\"Sentence:\", sent)\n",
    "\n",
    "        if type(graph) != nltk.tree.Tree:\n",
    "            graph.tree().pretty_print(unicodelines=True, nodedist=4)\n",
    "            print(\"The ROOT is '{}'\".format(s_bold + graph.root['word'] + e_bold), '\\n')\n",
    "        else:\n",
    "            graph.pretty_print(unicodelines=True, nodedist=4)\n",
    "            print(\"The ROOT is '{}'\".format(s_bold + graph.label() + e_bold), '\\n')\n",
    "        "
   ]
  },
  {
   "cell_type": "markdown",
   "metadata": {
    "slideshow": {
     "slide_type": "slide"
    }
   },
   "source": [
    "#### Exercise 2\n",
    "\n",
    "Write a function that given a dependency graph, for each token (word), produces list of words from it to ROOT.\n",
    "\n",
    "(Construct normal `dict` for simplicity first.)"
   ]
  },
  {
   "cell_type": "code",
   "execution_count": 4,
   "metadata": {
    "slideshow": {
     "slide_type": "fragment"
    }
   },
   "outputs": [
    {
     "name": "stdout",
     "output_type": "stream",
     "text": [
      "                                   will                                                     \n",
      " ┌─────────────────┬────────────────┴────────────────┐                                          \n",
      " │               Vinken                             join                                    \n",
      " │       ┌─────────┼────────┬───────┐        ┌───────┴─────────┬─────────────────────────┐      \n",
      " │       │         │        │      old       │                 as                        │  \n",
      " │       │         │        │       │        │                 │                         │      \n",
      " │       │         │        │     years    board            director                    Nov.\n",
      " │       │         │        │       │        │       ┌─────────┴─────────────┐           │      \n",
      " .     Pierre      ,        ,       61      the      a                  nonexecutive     29 \n",
      "\n",
      "None\n",
      "Pierre : ['Pierre', 'Vinken', 'will']\n",
      "Vinken : ['Vinken', 'will']\n",
      ", : [',', 'Vinken', 'will']\n",
      "61 : ['61', 'years', 'old', 'Vinken', 'will']\n",
      "years : ['years', 'old', 'Vinken', 'will']\n",
      "old : ['old', 'Vinken', 'will']\n",
      ", : [',', 'Vinken', 'will']\n",
      "will : ['will']\n",
      "join : ['join', 'will']\n",
      "the : ['the', 'board', 'join', 'will']\n",
      "board : ['board', 'join', 'will']\n",
      "as : ['as', 'join', 'will']\n",
      "a : ['a', 'director', 'as', 'join', 'will']\n",
      "nonexecutive : ['nonexecutive', 'director', 'as', 'join', 'will']\n",
      "director : ['director', 'as', 'join', 'will']\n",
      "Nov. : ['Nov.', 'join', 'will']\n",
      "29 : ['29', 'Nov.', 'join', 'will']\n",
      ". : ['.', 'will']\n"
     ]
    }
   ],
   "source": [
    "from pprint import pprint\n",
    "# With .nodes we get a dict\n",
    "dg_tree = dependency_treebank.parsed_sents()[0].tree()\n",
    "dg = dependency_treebank.parsed_sents()[0].nodes\n",
    "# Let's print to see what it contains\n",
    "#pprint(dg)\n",
    "print(dg_tree.pretty_print(unicodelines=True, nodedist=4))\n",
    "\n",
    "def go_to_root(token, head, dg):\n",
    "    end = False\n",
    "    path = [token]\n",
    "    if head == 0:\n",
    "        return path\n",
    "    while not end:\n",
    "        next_token = dg[head]['word']\n",
    "        head = dg[head]['head']\n",
    "        path.append(next_token)\n",
    "        if head == 0:\n",
    "            end = True\n",
    "    return path\n",
    "\n",
    "for k, v in sorted(dg.items()):\n",
    "    if k != 0:\n",
    "        print(v['word'],\":\" ,go_to_root(v['word'], v['head'], dg))\n",
    "        \n",
    "    "
   ]
  },
  {
   "cell_type": "code",
   "execution_count": null,
   "metadata": {},
   "outputs": [],
   "source": []
  },
  {
   "cell_type": "markdown",
   "metadata": {
    "slideshow": {
     "slide_type": "slide"
    }
   },
   "source": [
    "### Exercise 3\n",
    "- Train `arc-standard` and `arc-eager` transition parsers on the same portion (slightly bigger than 100, otherwise it takes a lot of time)\n",
    "- Evaluate both of them comparing the attachment scores"
   ]
  },
  {
   "cell_type": "code",
   "execution_count": 8,
   "metadata": {
    "slideshow": {
     "slide_type": "skip"
    }
   },
   "outputs": [
    {
     "name": "stdout",
     "output_type": "stream",
     "text": [
      " Number of training examples : 150\n",
      " Number of valid (projective) examples : 150\n",
      "[<DependencyGraph with 16 nodes>]\n",
      "0.7979524239686842\n",
      "0.7979524239686842\n",
      " Number of training examples : 150\n",
      " Number of valid (projective) examples : 150\n",
      "0.8027702499247215\n",
      "0.8027702499247215\n"
     ]
    }
   ],
   "source": [
    "tp = TransitionParser('arc-standard')\n",
    "tp.train(dependency_treebank.parsed_sents()[:150], 'tp.model', verbose=False)\n",
    "\n",
    "parses = tp.parse(dependency_treebank.parsed_sents()[-150:], 'tp.model')\n",
    "print(dependency_treebank.parsed_sents()[-1:])\n",
    "de = DependencyEvaluator(parses, dependency_treebank.parsed_sents()[-150:])\n",
    "las, uas = de.eval()\n",
    "\n",
    "# no labels, thus identical\n",
    "print(las)\n",
    "print(uas)\n",
    "\n",
    "tp = TransitionParser('arc-eager')\n",
    "tp.train(dependency_treebank.parsed_sents()[:150], 'tp.model', verbose=False)\n",
    "\n",
    "parses = tp.parse(dependency_treebank.parsed_sents()[-150:], 'tp.model')\n",
    "de = DependencyEvaluator(parses, dependency_treebank.parsed_sents()[-150:])\n",
    "las, uas = de.eval()\n",
    "\n",
    "# no labels, thus identical\n",
    "print(las)\n",
    "print(uas)"
   ]
  },
  {
   "cell_type": "code",
   "execution_count": 9,
   "metadata": {},
   "outputs": [
    {
     "name": "stdout",
     "output_type": "stream",
     "text": [
      "(said\n",
      "  Trinity\n",
      "  (plans\n",
      "    it\n",
      "    (begin to delivery (in (quarter the first (of (year next))))))\n",
      "  .)\n"
     ]
    }
   ],
   "source": [
    "parses = tp.parse(dependency_treebank.parsed_sents()[-1:], 'tp.model')\n",
    "parses[0].tree().pprint()"
   ]
  }
 ],
 "metadata": {
  "kernelspec": {
   "display_name": "Python 3",
   "language": "python",
   "name": "python3"
  },
  "language_info": {
   "codemirror_mode": {
    "name": "ipython",
    "version": 3
   },
   "file_extension": ".py",
   "mimetype": "text/x-python",
   "name": "python",
   "nbconvert_exporter": "python",
   "pygments_lexer": "ipython3",
   "version": "3.9.18"
  },
  "toc-showtags": false
 },
 "nbformat": 4,
 "nbformat_minor": 4
}
